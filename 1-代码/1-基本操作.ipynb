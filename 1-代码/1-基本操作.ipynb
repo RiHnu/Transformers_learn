{
 "cells": [
  {
   "cell_type": "code",
   "execution_count": 5,
   "source": [
    "tokenizer.encoder['love']"
   ],
   "outputs": [
    {
     "output_type": "execute_result",
     "data": {
      "text/plain": [
       "17693"
      ]
     },
     "metadata": {},
     "execution_count": 5
    }
   ],
   "metadata": {}
  },
  {
   "cell_type": "code",
   "execution_count": 10,
   "source": [
    "tokenizer('refrigerator', add_special_tokens=False).input_ids\n",
    "# 如果相应的 input_ids 长度不为 1 则 该单词不在 Vocab 里面"
   ],
   "outputs": [
    {
     "output_type": "execute_result",
     "data": {
      "text/plain": [
       "[13043, 36152, 2630]"
      ]
     },
     "metadata": {},
     "execution_count": 10
    }
   ],
   "metadata": {}
  },
  {
   "cell_type": "code",
   "execution_count": 20,
   "source": [
    "tokenizer.vocab_files_names"
   ],
   "outputs": [
    {
     "output_type": "execute_result",
     "data": {
      "text/plain": [
       "{'vocab_file': 'vocab.json', 'merges_file': 'merges.txt'}"
      ]
     },
     "metadata": {},
     "execution_count": 20
    }
   ],
   "metadata": {}
  },
  {
   "cell_type": "code",
   "execution_count": 14,
   "source": [
    "from defsent import DefSent\n",
    "\n",
    "model = DefSent(\"cl-nagoya/defsent-bert-base-uncased-cls\")\n",
    "\n"
   ],
   "outputs": [],
   "metadata": {}
  },
  {
   "cell_type": "code",
   "execution_count": 15,
   "source": [
    "model.predict_words('an appliance or compartment which is artificially kept cool and used to store food and drink')"
   ],
   "outputs": [
    {
     "output_type": "execute_result",
     "data": {
      "text/plain": [
       "[['refrigerator',\n",
       "  'fridge',\n",
       "  'cooler',\n",
       "  'oven',\n",
       "  'tray',\n",
       "  'cupboard',\n",
       "  'tank',\n",
       "  'pot',\n",
       "  'bar',\n",
       "  'tub']]"
      ]
     },
     "metadata": {},
     "execution_count": 15
    }
   ],
   "metadata": {}
  },
  {
   "cell_type": "code",
   "execution_count": 19,
   "source": [
    "define = 'a container for holding water in which a person or animal may bathe'\n",
    "\n",
    "model.predict_words(define)"
   ],
   "outputs": [
    {
     "output_type": "execute_result",
     "data": {
      "text/plain": [
       "[['bath',\n",
       "  'tub',\n",
       "  'basin',\n",
       "  'shower',\n",
       "  'pool',\n",
       "  'toilet',\n",
       "  'sink',\n",
       "  'tank',\n",
       "  'kettle',\n",
       "  'towel']]"
      ]
     },
     "metadata": {},
     "execution_count": 19
    }
   ],
   "metadata": {}
  },
  {
   "cell_type": "code",
   "execution_count": null,
   "source": [],
   "outputs": [],
   "metadata": {}
  }
 ],
 "metadata": {
  "orig_nbformat": 4,
  "language_info": {
   "name": "python",
   "version": "3.8.10",
   "mimetype": "text/x-python",
   "codemirror_mode": {
    "name": "ipython",
    "version": 3
   },
   "pygments_lexer": "ipython3",
   "nbconvert_exporter": "python",
   "file_extension": ".py"
  },
  "kernelspec": {
   "name": "python3",
   "display_name": "Python 3.8.10 64-bit ('lypcs': conda)"
  },
  "interpreter": {
   "hash": "9325b4af7dc35367926a665bb81c5ae7c1f2fd7504d0c9df58cf293b10a82535"
  }
 },
 "nbformat": 4,
 "nbformat_minor": 2
}