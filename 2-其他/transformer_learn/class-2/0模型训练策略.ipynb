{
 "cells": [
  {
   "cell_type": "markdown",
   "source": [
    "# Warmup Linear Schedule\n",
    "\n",
    "[官网博客](https://huggingface.co/transformers/main_classes/optimizer_schedules.html?highlight=get_linear_schedule_with_warmup#transformers.get_linear_schedule_with_warmup)\n",
    "\n",
    "\n",
    "## 参数介绍\n",
    "\n",
    "- optimizer:                优化器\n",
    "\n",
    "- num_warmp_steps:          warmup steps = (所有的数据 instance / batch_size) // 2\n",
    "\n",
    "- num_training_steps:       训练的总 steps = epoch * (所有的数据 instance / batch_size)\n",
    "\n",
    "- last_epoch (默认值为 -1):  一般为默认值"
   ],
   "metadata": {}
  }
 ],
 "metadata": {
  "orig_nbformat": 4,
  "language_info": {
   "name": "python"
  }
 },
 "nbformat": 4,
 "nbformat_minor": 2
}